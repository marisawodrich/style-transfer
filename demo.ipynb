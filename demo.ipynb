{
 "cells": [
  {
   "cell_type": "markdown",
   "metadata": {
    "id": "_OChRGKq7H2y"
   },
   "source": [
    "# Artistic Style Transfer \n",
    "\n",
    "This Colab contains a replication of the artistic style transfer proposed by Leon A. Gatys, Alexander S. Ecker and Matthias Bethge in their paper 'A Neural Algorithm of Artistic Style' (2015).\n",
    "\n",
    "*Replication by Marisa Wodrich and Johanna Linkemeyer*\n",
    "\n",
    "---"
   ]
  },
  {
   "cell_type": "markdown",
   "metadata": {
    "id": "0Zsq2Bwq7QRB"
   },
   "source": [
    "## **1 Introduction**\n",
    "\n",
    "Artistic style transfer aims at transferring the style of a given image to an artistic style. It allows to take any photopraph and any artistic work one likes and creates a version of that photograph in the style (meaning the same colors, brushstroke, and art specific patterns) of the specific artwork.\n",
    "\n",
    "In 2015, Gatys and colleagues proposed a deep neural network (DNN) to perform artistic style transform on any given image. Their approach is based on the following finding: Visualizing the reconstructions of images that are processed with the object recognition network VGG, the researchers found that the image content gets increasingly precise along the layers of the convolutional neural network. At the same time, they found that style can be reconstructed using the correlation of the feature maps in each layer. Gatys and colleagues used this finding to generate new images that contain the content of a content image and the style of an artistic style image. They do so by iteratively adapting the generated image by applying the obtained gradients to the generated image. Those gradients get smaller and the image gets adapted less, the more the content of the generated image matches that of the original content image while also precisely capturing the style of the original style image. The overall loss to calculate the gardients in each iteration is computed using the sum of a content and a style loss. The relation of those two losses can be adapted with a content weight and a style weight - which in the end determine the how much content and style are represented in the final, generated image. The following image depicts the generated result (bottom) of the artistic style transfer from the following code using the example of a sunflower image (top) and the style of the artist James Rizzy (middle).\n",
    "\n",
    "<img src='https://www.myhomebook.de/data/uploads/2020/02/gettyimages-1141659565-1024x683.jpg' width='200px'>\n",
    "<img src='https://github.com/marisawodrich/style-transfer/blob/main/figures/rizzy.jpg?raw=true' width='200px'>\n",
    "<img src='https://github.com/marisawodrich/style-transfer/blob/main/figures/sunflower-rizzy.jpg?raw=true' width='200px'>"
   ]
  },
  {
   "cell_type": "markdown",
   "metadata": {
    "id": "QXYjAvO4T42b"
   },
   "source": [
    "## **2 Data**\n",
    "\n",
    "In this section, the data for our style transfer is loaded. Also, the functions to preprocess our data for the network are defined here. The data we use are images. More precisely, for our artistic style transfer, we require content and style images. Content images can be basically any image. We chose the Neckarfront image from the paper we replicate and, additionally, some other images we found on the internet to test the effectiveness of the style transfer on other images, too:\n",
    "* Image of the Neckarfront in Tübingen (Original paper by Gatys and colleagues)\n",
    "* A Field of Sunflowers\n",
    "* A Puppy on a Field\n",
    "* A Lake in Front of a Mountain\n",
    "\n",
    "For the style images, we chose the five style images from the original paper and added two more that we liked particularly. The style images provided from us are:\n",
    "* The Starry Night by Vincent van Gogh (1889) *- Post-Impressionism*\n",
    "* The Scream by Edvard Munch (1893) *- Expressionism*\n",
    "* Cafeterrasse am Abend by Vincent van Gogh (1888) *- Post-Impressionism*\n",
    "* Style from the Artist James Rizzy *-* \n",
    "* The Shipwreck of the Minotaur by William Turner (1810) *- Romantic*\n",
    "* Composition VII by Wassily Kadinsky (1913) *- Abstract Art*\n",
    "* Femme Nue Assise by Pablo Picasso (1910) *- Cubism*\n"
   ]
  },
  {
   "cell_type": "markdown",
   "metadata": {
    "id": "bcoTO8KwJSmn"
   },
   "source": [
    "### **2.1 Setup**\n",
    "\n",
    "This section is for setup purposes. All necessary packages are imported and the required directories to store the data are created."
   ]
  },
  {
   "cell_type": "code",
   "execution_count": null,
   "metadata": {
    "id": "bbfKsvNrJQ9t"
   },
   "outputs": [],
   "source": [
    "import tensorflow as tf\n",
    "import tensorflow.keras as keras\n",
    "from tensorflow.keras import layers, Model\n",
    "\n",
    "import numpy as np\n",
    "import os \n",
    "import matplotlib.pyplot as plt\n",
    "import time\n",
    "import functools\n",
    "import cv2\n",
    "from skimage import io\n",
    "from PIL import Image\n",
    "from IPython.display import clear_output"
   ]
  },
  {
   "cell_type": "code",
   "execution_count": null,
   "metadata": {},
   "outputs": [],
   "source": [
    "from helpers import make_dirs"
   ]
  },
  {
   "cell_type": "code",
   "execution_count": null,
   "metadata": {
    "id": "XQlPi76YPZUV"
   },
   "outputs": [],
   "source": [
    "# Define paths directories for images (subdivided into style, content and \n",
    "# generated images) if they do not exist.\n",
    "path = './images'\n",
    "path_style = os.path.join(path, 'style')\n",
    "path_content = os.path.join(path, 'content')\n",
    "path_generated = os.path.join(path, 'generated')\n",
    "\n",
    "# Create directories from predefined paths.\n",
    "make_dirs([path, path_style, path_content, path_generated])"
   ]
  },
  {
   "cell_type": "markdown",
   "metadata": {
    "id": "8WggdTiGPisi"
   },
   "source": [
    "### **2.2 Load and Visualize Images**\n",
    "\n",
    "The following sections contains all functions to load images and visualize them.\n",
    "\n",
    "There is the option to add an image from your own link or your computer if you have a preferred image for style transfer. You can find the instructions to use your own image in the section **2.1.2 Load Images**.\n",
    "\n"
   ]
  },
  {
   "cell_type": "markdown",
   "metadata": {
    "id": "ZiLQv3mH-fh-"
   },
   "source": [
    "#### **2.2.1 Helper Functions**"
   ]
  },
  {
   "cell_type": "code",
   "execution_count": null,
   "metadata": {
    "id": "ybHJaFVPBTTH"
   },
   "outputs": [],
   "source": [
    "from helpers import update_dictionary, test_jpg_or_png, load_image_from_link"
   ]
  },
  {
   "cell_type": "markdown",
   "metadata": {
    "id": "-KIZH9G4-lJ-"
   },
   "source": [
    "#### **2.2.2 Load Images**\n",
    "\n",
    "Here, the functions above are used to load some images that can/ will later be used for style transfer. We provide seven style images and four content images. The images from the paper by Gatys and colleagues are included to allow a comparison of our results to theirs.\n",
    "\n",
    "If you would like to use a style or content image of your choice from a link, feel free to use the \n",
    "\n",
    ">**load_image_from_link(link, image_name, image_description, style_image)** \n",
    "\n",
    "function. For the parameters, please adapt them to your needs in the following way:\n",
    "\n",
    "* **link**: Here, you should insert the link to your image. Please use the link that explicitly leads to the image, not the website you obtain it from. To check, this link should end with **.jpg** or **.png**. For some images, even though you provide the correct link, this method of loading the image won't work. You can still use the image by saving it on your device and uploading it manually to the respective folder.\n",
    "\n",
    "* **image_name**: Here, you should insert the name you want to give the image. Please check, that the name ends with **.jpg** or **.png**.\n",
    "\n",
    "* **image_description**: Please provide a short description of the image. This description will be used as a title in the image visualization.\n",
    "\n",
    "* **style_image**: Depending on whether you would like to add a new style or content image, set this boolean to *true* or *false*. Choose *true* if you add a style image, and *false* for a content image.\n",
    "\n"
   ]
  },
  {
   "cell_type": "code",
   "execution_count": null,
   "metadata": {
    "id": "-Ip5wKZsBtOT"
   },
   "outputs": [],
   "source": [
    "# ---- STYLE IMAGES ----\n",
    "\n",
    "# The Starry Night by Vincent van Gogh (1889)\n",
    "load_image_from_link('https://upload.wikimedia.org/wikipedia/commons/thumb/e/ea/Van_Gogh_-_Starry_Night_-_Google_Art_Project.jpg/1280px-Van_Gogh_-_Starry_Night_-_Google_Art_Project.jpg',\n",
    "                     'starry_night.jpg',\n",
    "                     'Starry Night',\n",
    "                     style_image=True)\n",
    "\n",
    "# The Scream by Edvard Munch (1893)\n",
    "load_image_from_link('https://upload.wikimedia.org/wikipedia/commons/thumb/c/c5/Edvard_Munch%2C_1893%2C_The_Scream%2C_oil%2C_tempera_and_pastel_on_cardboard%2C_91_x_73_cm%2C_National_Gallery_of_Norway.jpg/300px-Edvard_Munch%2C_1893%2C_The_Scream%2C_oil%2C_tempera_and_pastel_on_cardboard%2C_91_x_73_cm%2C_National_Gallery_of_Norway.jpg',\n",
    "                     'the_scream.jpg',\n",
    "                     'The Scream',\n",
    "                     style_image=True)\n",
    "\n",
    "# Cafeterrasse am Abend by Vincent van Gogh (1888)\n",
    "load_image_from_link('https://upload.wikimedia.org/wikipedia/commons/thumb/b/b6/Gogh4.jpg/300px-Gogh4.jpg',\n",
    "                     'cafeterrasse_am_abend.jpg',\n",
    "                     'Caféterrasse am Abend',\n",
    "                     style_image=True)\n",
    "\n",
    "# Style from the Artist James Rizzy\n",
    "load_image_from_link('http://www.james-rizzi.com/wp-content/uploads/pictures/cache/2007_03_000_KeepingBusyInARizziCity_800_600.jpg',\n",
    "                     'rizzy.jpg',\n",
    "                     'Rizzy Style',\n",
    "                     style_image=True)\n",
    "\n",
    "# The Shipwreck of the Minotaur by William Turner (1810)\n",
    "load_image_from_link('https://upload.wikimedia.org/wikipedia/commons/2/2e/Shipwreck_turner.jpg',\n",
    "                     'shipwreck.jpg',\n",
    "                     'The Shipwreck of the Minotaur',\n",
    "                     style_image=True)\n",
    "\n",
    "# Composition VII by Wassily Kadinsky (1913)\n",
    "load_image_from_link('https://upload.wikimedia.org/wikipedia/commons/b/b4/Vassily_Kandinsky%2C_1913_-_Composition_7.jpg',\n",
    "                     'composition_vii.jpg',\n",
    "                     'Composition VII',\n",
    "                     style_image=True)\n",
    "\n",
    "# Femme Nue Assise by Pablo Picasso (1910)\n",
    "load_image_from_link('https://az334033.vo.msecnd.net/images-7/seated-nude-femme-nue-assise-pablo-picasso-1909-f9095482.jpg',\n",
    "                     'femme_nue_assise.jpg',\n",
    "                     'Femme nue assise',\n",
    "                     style_image=True)\n",
    "\n",
    "# ---- CONTENT IMAGES ----\n",
    "\n",
    "# Image of a Field of Sunflowers\n",
    "load_image_from_link('https://www.myhomebook.de/data/uploads/2020/02/gettyimages-1141659565-1024x683.jpg',\n",
    "                     'sunflower.jpg',\n",
    "                     'Sunflower',\n",
    "                     style_image=False)\n",
    "\n",
    "# Image of a Lake in Front of a Mountain\n",
    "load_image_from_link('https://www.scinexx.de/wp-content/uploads/0/1/01-35131-nukliduhr01.jpg',\n",
    "                     'mountain.jpg',\n",
    "                     'Mountain',\n",
    "                     style_image=False)\n",
    "\n",
    "# Image of a Puppy on a Field\n",
    "load_image_from_link('https://www.mera-petfood.com/files/_processed_/a/4/csm_iStock-521697453_7570f7a9b6.jpg',\n",
    "                     'puppy.jpg',\n",
    "                     'Puppy',\n",
    "                     style_image=False)\n",
    "\n",
    "# Image of the Neckarfront in Tübingen\n",
    "load_image_from_link('https://upload.wikimedia.org/wikipedia/commons/0/00/Tuebingen_Neckarfront.jpg',\n",
    "                     'neckarfront.jpg',\n",
    "                     'Neckarfront',\n",
    "                     style_image=False)\n"
   ]
  },
  {
   "cell_type": "markdown",
   "metadata": {
    "id": "7OvSOQ1-CCs1"
   },
   "source": [
    "#### **2.2.3 Image Visualization**\n",
    "\n",
    "Here, one can take a look at the loaded data. Running the following two code blocks will visualize all style and content images that are in the respective folder."
   ]
  },
  {
   "cell_type": "code",
   "execution_count": null,
   "metadata": {},
   "outputs": [],
   "source": [
    "from visualize import visualize_images"
   ]
  },
  {
   "cell_type": "code",
   "execution_count": null,
   "metadata": {
    "id": "DSdzpfg7UdY1"
   },
   "outputs": [],
   "source": [
    "visualize_images(path_style, 'STYLE IMAGES', notebook=True)\n",
    "visualize_images(path_content, 'CONTENT IMAGES', notebook=True)"
   ]
  },
  {
   "cell_type": "markdown",
   "metadata": {
    "id": "BKlS_-bmdGKL"
   },
   "source": [
    "### **2.3 Preprocessing Functions**\n",
    "\n",
    "For this project, we will use pre-trained layers from VGG19, a Convolutional Neural Network (CNN) for object detection. Input images to VGG19 must be preprocessed in the following way:\n",
    "\n",
    "* Size of images: 224 x 224 x 3\n",
    "* Color range: [0, 255]\n",
    "* Value type: float 32\n",
    "* Colorspace: BGR\n",
    "* Normalization (zero-centering) per channel (B: 103.939, G: 116.779, R: 123.68)\n",
    "\n",
    "*This information is obtained from [here](https://www.tensorflow.org/api_docs/python/tf/keras/applications/vgg19/preprocess_input) and [here](https://towardsdatascience.com/extract-features-visualize-filters-and-feature-maps-in-vgg16-and-vgg19-cnn-models-d2da6333edd0) and not provided in the paper by Gatys and colleagues.*\n",
    "\n",
    "NOTE: We do not process all data right away because we can do it easily when running the style transfer later."
   ]
  },
  {
   "cell_type": "code",
   "execution_count": null,
   "metadata": {
    "id": "R2b2kKmLwA7n"
   },
   "outputs": [],
   "source": [
    "from processing import img2tensor, tensor2img"
   ]
  },
  {
   "cell_type": "markdown",
   "metadata": {
    "id": "PjZN2j5ndfF3"
   },
   "source": [
    "Testing the preprocessing pipeline:"
   ]
  },
  {
   "cell_type": "code",
   "execution_count": null,
   "metadata": {
    "id": "5d1Bs-rw1tW4"
   },
   "outputs": [],
   "source": [
    "# Define path to test image\n",
    "img_path = os.path.join(path_content, 'puppy.jpg')\n",
    "\n",
    "# Preprocessing of given image\n",
    "img_tensor, orig_shape = img2tensor(img_path)\n",
    "\n",
    "# Test if image actually is a tensor\n",
    "assert tf.is_tensor(img_tensor), 'Image is not a tensor.'\n",
    "\n",
    "# Test if conversion back works as well\n",
    "img = tensor2img(img_tensor, orig_shape)\n",
    "\n",
    "# Show image to check if transfer back worked.\n",
    "plt.imshow(img)\n",
    "plt.axis('off')\n",
    "plt.show()"
   ]
  },
  {
   "cell_type": "markdown",
   "metadata": {
    "id": "NgsHOMOG7n5X"
   },
   "source": [
    "## **3 Model**\n",
    "\n",
    "In the orginal the VGG-network is used. VGG is a Convolutional Neural Network (CNN) for object detection. We will first inspect the original model and then define our own model based on the pretrained layers (imagenet) of the VGG19 network."
   ]
  },
  {
   "cell_type": "markdown",
   "metadata": {
    "id": "O09KjTTjiK7u"
   },
   "source": [
    "### **3.1 Inspect VGG19**\n",
    "\n",
    "A pretrained version of VGG19 is available from the keras applications. We load the model with the imagenet weights. We also specify that we would like to use average pooling (indicated by the parameter *pooling='avg'*) because this variant is used in the original paper. Another variant would be *pooling='max'* for max-pooling."
   ]
  },
  {
   "cell_type": "code",
   "execution_count": null,
   "metadata": {
    "id": "7P0ZPV_UE9xW"
   },
   "outputs": [],
   "source": [
    "# Load the model\n",
    "model_vgg19 = tf.keras.applications.VGG19(include_top=False,\n",
    "                                          weights='imagenet',\n",
    "                                          pooling='avg')\n",
    "\n",
    "# Inspect the layers.\n",
    "for layer in model_vgg19.layers:\n",
    "    print(layer.name)"
   ]
  },
  {
   "cell_type": "markdown",
   "metadata": {
    "id": "1dcMIPXmP7_P"
   },
   "source": [
    "We can observe that the model consists of an input layer, followed by five blocks and finished off by a global average pooling layer. Each block consists of four convolutional layers, finished with a pooling layer."
   ]
  },
  {
   "cell_type": "markdown",
   "metadata": {
    "id": "VlRrvj5PiQNb"
   },
   "source": [
    "### **3.2 Get Model**"
   ]
  },
  {
   "cell_type": "code",
   "execution_count": null,
   "metadata": {},
   "outputs": [],
   "source": [
    "# Import the model class that can be defined with specific layers from the pretrained VGG network\n",
    "from model import StyleModel"
   ]
  },
  {
   "cell_type": "markdown",
   "metadata": {
    "id": "KXkSSGxoQ90v"
   },
   "source": [
    "### **3.3 Define Gram Matrix and Loss Functions**\n",
    "\n",
    "The style transfer is achieved through a very specific loss. The overall loss consists of the sum of weighted content and style losses. The formula for the overall loss is as follows:\n",
    "<center>$L_{total}(\\vec{p}, \\vec{a}, \\vec{x}) = \\alpha * L_{content}(\\vec{p}, \\vec{x}) + \\beta * L_{style}(\\vec{a}, \\vec{x})$</center>\n",
    "\n",
    "with:\n",
    "* $\\vec{p} = $ content image/ photograph\n",
    "* $\\vec{a} = $ artwork image\n",
    "* $\\vec{x} = $ generated image\n",
    "* $\\alpha = $ weight for the content loss\n",
    "* $\\beta = $ weight for the style loss\n",
    "\n",
    "\n",
    "$\\alpha$ and $\\beta$ will be provided by the user when running the style transfer. In the following sections, there will be a detailed description on how exactly the content and style losses are calculated, respectively."
   ]
  },
  {
   "cell_type": "code",
   "execution_count": null,
   "metadata": {
    "id": "bzgUyQBjrX_B"
   },
   "outputs": [],
   "source": [
    "# This line imports all functions to calculate the specific content (3.3.3) and style loss (3.3.2) and the \n",
    "# gram matrices (3.3.1) for each layer to get the style loss. The documentation for the calculations done \n",
    "# in the functions can be found in the following subsections (3.3.1 - 3.3.3)\n",
    "\n",
    "from model import gram_matrix, loss_style, loss_content"
   ]
  },
  {
   "cell_type": "markdown",
   "metadata": {
    "id": "Sg9gMqNzvWAE"
   },
   "source": [
    "#### **3.3.1 Gram Matrix**\n",
    "\n",
    "The Gram Matrix is necessary for the calculation of the style loss. The idea of the gram matrix is to get the correlation of the filter responses for each layer. Those feature correlations are provided through the inner product of the vectorized feature maps (for each layer). So, the gram matrix has a shape of $(number\\_channels * number\\_channels)$.\n",
    "\n",
    "The formula for the gram matrix is as follows:\n",
    "<center>$G_{ij}^l = \\sum_k F_{ik}^l * F_{jk}^l$</center>\n",
    "\n",
    "with:\n",
    "* $l = $ current layer\n",
    "* $G^l = $ gram matrix in layer $l$\n",
    "* $F^l = $ feature map in layer $l$"
   ]
  },
  {
   "cell_type": "markdown",
   "metadata": {
    "id": "AyUh-UXuvY2R"
   },
   "source": [
    "#### **3.3.2 Style loss**"
   ]
  },
  {
   "cell_type": "markdown",
   "metadata": {
    "id": "VV-9B7un2pSI"
   },
   "source": [
    "The style loss is the mean squared error of the gram matrices of output and target for each layer Outputs and targets are the outputs from the model of the generated image (output) and the original style image (target) for all relevant style layers.\n",
    "\n",
    "The loss is then computed by iterating over the outputs and targets for each style layer and calculating the error for those layers respectively. Each 'layer-error' is then weighted by the number of style layers.\n",
    "\n",
    "To get the difference for original and style images' outputs in the specific layer, the gram matrices are calculated for both. The sum of squared difference is then weighted to get the mean. The full formula is as follows.\n",
    "\n",
    "<center>$L_{style}(\\vec{a}, \\vec{x}) = \\sum_{l=0}^L w_l * E_l$</center>\n",
    "\n",
    "with\n",
    "* $\\vec{a} = $ original image/ artwork image\n",
    "* $\\vec{x} = $ generated image\n",
    "* $w = $ weighting factor 1 / number of style layers\n",
    "* and\n",
    "\n",
    "<center>$E_l = \\dfrac{1}{4 * N_l^2 * M_l^2} * \\sum_{i, j} (G_{ij}^l - A_{ij}^l)^2$</center>\n",
    "\n",
    "with\n",
    "* $L =$ all layers\n",
    "* $N_l =$ number of feature maps in layer $l$\n",
    "* $M_l =$ size of feature maps (its height * its width) in layer $l$\n",
    "* $A^l =$ gram matrix of target image in layer $l$\n",
    "* $G^l =$ gram matrix of generated image in layer $l$\n"
   ]
  },
  {
   "cell_type": "markdown",
   "metadata": {
    "id": "1MhhOj-HvMfU"
   },
   "source": [
    "#### **3.3.3 Content Loss**\n",
    "\n",
    "The content loss is the mean squared error over the feature representations of the output and target per layer.\n",
    "\n",
    "<center>$L_{content}(\\vec{p}, \\vec{x}, l) = \\frac{1}{2} * \\sum_{i,j} (F_{ij}^l - P_{ij}^l)^2$</center>\n",
    "\n",
    "with\n",
    "* $\\vec{p} = $ content image/ photograph\n",
    "* $\\vec{x} = $ generated image\n",
    "* $l = $ current layer $l$\n",
    "* $P^l = $ feature representation in layer $l$ of content image\n",
    "* $F^l = $ feature representation in layer $l$ of generated image\n"
   ]
  },
  {
   "cell_type": "markdown",
   "metadata": {
    "id": "uqlj01bL73vp"
   },
   "source": [
    "## **4 Running the Style Transfer**\n",
    "\n",
    "In style transfer, there is no real 'training' phase but rather a phase where the content image iteratively gets adapted such that it takes the style of the style image. First"
   ]
  },
  {
   "cell_type": "markdown",
   "metadata": {
    "id": "qpVwXjfSdtW4"
   },
   "source": [
    "### **4.1 Helper Functions**"
   ]
  },
  {
   "cell_type": "code",
   "execution_count": null,
   "metadata": {},
   "outputs": [],
   "source": [
    "# Import helper functions and code for visualization of progress\n",
    "from helpers import prep_images, clip_values\n",
    "from visualize import visualize_progress"
   ]
  },
  {
   "cell_type": "markdown",
   "metadata": {
    "id": "Dy_aVclmdz39"
   },
   "source": [
    "### **4.2 Define Model with Specific Layers and Default Parameters**\n",
    "\n",
    "For the content layers of our model for artistic style transfer, we chose 'block4_conv2' as in the original paper.\n",
    "\n",
    "For the style layers, we chose the variant from the original paper. From each block, the first convolutional layer is used in the style transfer model."
   ]
  },
  {
   "cell_type": "code",
   "execution_count": null,
   "metadata": {
    "id": "KGBfWyzukdqT"
   },
   "outputs": [],
   "source": [
    "# Content layers: Second convolutional layer from the forth block.\n",
    "layers_content = ['block4_conv2'] \n",
    "\n",
    "# Style layers: First convolutional layer of each of the five blocks\n",
    "layers_style = ['block1_conv1',\n",
    "                'block2_conv1',\n",
    "                'block3_conv1', \n",
    "                'block4_conv1', \n",
    "                'block5_conv1']\n",
    "\n",
    "assert len(layers_content) != 0, 'There must be at least one content layer.'\n",
    "assert len(layers_style) != 0, 'There must be at least one style layer.'\n",
    "\n",
    "# Append the layer names to define the full model.\n",
    "layers_complete = layers_content + layers_style"
   ]
  },
  {
   "cell_type": "code",
   "execution_count": null,
   "metadata": {
    "id": "bdCdiiM9Kqyg"
   },
   "outputs": [],
   "source": [
    "# Set model with the previously defined layers\n",
    "model = StyleModel(number_content_layers=len(layers_content), layer_names=layers_complete)\n",
    "\n",
    "# Model should not be trainable\n",
    "for layer in model.layers:\n",
    "    layer.trainable = False\n",
    "\n",
    "# --- Default Parameters ---\n",
    "\n",
    "# Optimizer\n",
    "optimizer = tf.optimizers.Adam(learning_rate=4)\n",
    "\n",
    "# Weights\n",
    "weight_content_default = 1\n",
    "weight_style_default = 1e-2\n",
    "\n",
    "# Number of iterations\n",
    "iterations_default = 2000\n",
    "\n",
    "# Image names\n",
    "image_content_name = 'neckarfront.jpg'\n",
    "image_style_name = 'composition_vii.jpg'\n",
    "save_name_default = image_content_name.split('.')[0] + '-' + image_style_name\n",
    "\n",
    "# Load images\n",
    "image_content_default, image_style_default, image_content_default_shape = \\\n",
    "    prep_images(image_content_name, image_style_name)"
   ]
  },
  {
   "cell_type": "markdown",
   "metadata": {
    "id": "awS7iZJ4d3vS"
   },
   "source": [
    "### **4.3 Style Transfer Function**"
   ]
  },
  {
   "cell_type": "code",
   "execution_count": null,
   "metadata": {},
   "outputs": [],
   "source": [
    "from main import transfer_artistic_style"
   ]
  },
  {
   "cell_type": "code",
   "execution_count": null,
   "metadata": {
    "id": "ppuuTHGFH-z-"
   },
   "outputs": [],
   "source": [
    "img_names = transfer_artistic_style(model,\n",
    "                                    iterations_default, \n",
    "                                    image_content_default, \n",
    "                                    image_style_default, \n",
    "                                    optimizer, \n",
    "                                    weight_content_default,\n",
    "                                    weight_style_default,\n",
    "                                    image_content_default_shape, \n",
    "                                    save_name_default,\n",
    "                                    visualize_intermediate=True)"
   ]
  },
  {
   "cell_type": "code",
   "execution_count": null,
   "metadata": {
    "id": "fvAwuQhDfqsA"
   },
   "outputs": [],
   "source": [
    "# Run visualization code\n",
    "visualize_progress(img_names)"
   ]
  },
  {
   "cell_type": "markdown",
   "metadata": {
    "id": "hy9QpYTFgG1x"
   },
   "source": [
    "## **5 Results**\n",
    "\n",
    "To get all results, we first run the style transfer on all possible combinations on the content images we chose and then on all combinations from the original paper. The names of the result images are stored and can later be visualized."
   ]
  },
  {
   "cell_type": "code",
   "execution_count": null,
   "metadata": {},
   "outputs": [],
   "source": [
    "from main import run_all_combinations\n",
    "from visualize import plot_combinations"
   ]
  },
  {
   "cell_type": "markdown",
   "metadata": {
    "id": "Wqqgxp2nhjNU"
   },
   "source": [
    "### **5.1 Results on Selected Content Images**\n",
    "\n",
    "Here are the results of all possible combinations of the puppy, sunflower, and mountain content images with the style images: the scream, the starry night, Caféterrasse am Abend, and James Rizzy style.\n",
    "\n",
    "The first cell will run the code for all possible combinations and the second cell will visualize the original content and style image and the generated image next to each other for comparison."
   ]
  },
  {
   "cell_type": "code",
   "execution_count": null,
   "metadata": {
    "id": "HqP_nCgEHTIL"
   },
   "outputs": [],
   "source": [
    "# Define the our content image names and the the style images we would like\n",
    "content_images = ['puppy.jpg', 'sunflower.jpg', 'mountain.jpg']\n",
    "style_images = ['the_scream.jpg', \n",
    "                'cafeterrasse_am_abend.jpg', \n",
    "                'starry_night.jpg', \n",
    "                'rizzy.jpg']\n",
    "\n",
    "print('--- PROGRESS START ---')\n",
    "\n",
    "# Run style transfer on all those possible combinations\n",
    "save_names_own_content_imgs = run_all_combinations(model,\n",
    "                                                   content_images, \n",
    "                                                   style_images,\n",
    "                                                   optimizer,\n",
    "                                                   weight_content_default,\n",
    "                                                   weight_style_default,\n",
    "                                                   iterations_default)\n",
    "\n",
    "print('--- PROGRESS FINISHED, GOT ALL COMBINATIONS ---')"
   ]
  },
  {
   "cell_type": "code",
   "execution_count": null,
   "metadata": {
    "id": "gL9oY5PWjaYt"
   },
   "outputs": [],
   "source": [
    "# Visualization\n",
    "plot_combinations(save_names_own_content_imgs)"
   ]
  },
  {
   "cell_type": "markdown",
   "metadata": {
    "id": "Wu_2ajFQjC05"
   },
   "source": [
    "### **5.2 Results on Original Combinations**"
   ]
  },
  {
   "cell_type": "code",
   "execution_count": null,
   "metadata": {
    "id": "zzEI7TgyNer4"
   },
   "outputs": [],
   "source": [
    "# Define content and style images from original paper\n",
    "content_images = ['neckarfront.jpg']\n",
    "style_images = ['starry_night.jpg', \n",
    "                'composition_vii.jpg', \n",
    "                'the_scream.jpg', \n",
    "                'femme_nue_assise.jpg', \n",
    "                'shipwreck.jpg']\n",
    "\n",
    "print('--- PROGRESS START ---')\n",
    "\n",
    "# Run style transfer on all combinations from the original paper\n",
    "save_names_original_paper = run_all_combinations(model,\n",
    "                                                 content_images,\n",
    "                                                 style_images,\n",
    "                                                 optimizer,\n",
    "                                                 weight_content_default,\n",
    "                                                 weight_style_default,\n",
    "                                                 iterations_default)\n",
    "\n",
    "print('--- PROGRESS FINISHED, GOT ALL COMBINATIONS ---')"
   ]
  },
  {
   "cell_type": "code",
   "execution_count": null,
   "metadata": {
    "id": "0Gp0jThFlVeC"
   },
   "outputs": [],
   "source": [
    "plot_combinations(save_names_original_paper)"
   ]
  },
  {
   "cell_type": "markdown",
   "metadata": {
    "id": "OEjbtv0M82ms"
   },
   "source": [
    "## **6 Comparison to Original Paper**\n",
    "\n",
    "Please refer to our paper [here](https://github.com/marisawodrich/style-transfer/blob/main/replication_paper/style_transfer_not_finished.pdf) for a thorough analysis of our results and analyses and a comparison of those to the orgininal paper by Gatys and colleagues."
   ]
  },
  {
   "cell_type": "markdown",
   "metadata": {
    "id": "nZdFn1EbKxB3"
   },
   "source": [
    "## **References**\n",
    "\n",
    "* Gatys, L. A., Ecker, A. S., & Bethge, M. (2015). A neural algorithm of artistic style. arXiv preprint arXiv:1508.06576.\n",
    "\n",
    "* Neural Style Transfer with tf.keras. https://colab.research.google.com/github/tensorflow/models/blob/master/research/nst_blogpost/4_Neural_Style_Transfer_with_Eager_Execution.ipynb#scrollTo=sElaeNX-4Vnc [accessed 2021-04-03].\n",
    "\n",
    "* TensorFlow (last Update: 2021). Neural style transfer. https://www.tensorflow.org/tutorials/generative/style_transfer?hl=en [accessed 2021-04-04].\n",
    "\n",
    "* Extract Features, Visualize Filters and Feature Maps in VGG16 and VGG19 CNN Models (2020). https://towardsdatascience.com/extract-features-visualize-filters-and-feature-maps-in-vgg16-and-vgg19-cnn-models-d2da6333edd0 [accessed 2021-04-04].\n",
    "\n",
    "### **Images**\n",
    "* Image of the Neckarfront in Tübingen. https://upload.wikimedia.org/wikipedia/commons/0/00/Tuebingen_Neckarfront.jpg [accessed 2021-04-04].\n",
    "\n",
    "* A Field of Sunflowers. https://www.myhomebook.de/data/uploads/2020/02/gettyimages-1141659565-1024x683.jpg [accessed 2021-04-04].\n",
    "\n",
    "* A Puppy on a Field. https://www.mera-petfood.com/files/_processed_/a/4/csm_iStock-521697453_7570f7a9b6.jpg [accessed 2021-04-04].\n",
    "\n",
    "* A Lake in Front of a Mountain. https://www.scinexx.de/wp-content/uploads/0/1/01-35131-nukliduhr01.jpg [accessed 2021-04-04].\n",
    "\n",
    "* Vincent van Gogh (1889). The Starry Night. https://upload.wikimedia.org/wikipedia/commons/thumb/e/ea/Van_Gogh_-_Starry_Night_-_Google_Art_Project.jpg/1280px-Van_Gogh_-_Starry_Night_-_Google_Art_Project.jpg[accessed 2021-04-04].\n",
    "\n",
    "* Edvard Munch (1893). The Scream. https://upload.wikimedia.org/wikipedia/commons/thumb/c/c5/Edvard_Munch%2C_1893%2C_The_Scream%2C_oil%2C_tempera_and_pastel_on_cardboard%2C_91_x_73_cm%2C_National_Gallery_of_Norway.jpg/300px-Edvard_Munch%2C_1893%2C_The_Scream%2C_oil%2C_tempera_and_pastel_on_cardboard%2C_91_x_73_cm%2C_National_Gallery_of_Norway.jpg [accessed 2021-04-04].\n",
    "\n",
    "* Vincent van Gogh (1888) Cafeterrasse am Abend. https://upload.wikimedia.org/wikipedia/commons/thumb/b/b6/Gogh4.jpg/300px-Gogh4.jpg [accessed 2021-04-04].\n",
    "\n",
    "* Style from the Artist James Rizzy. http://www.james-rizzi.com/wp-content/uploads/pictures/cache/2007_03_000_KeepingBusyInARizziCity_800_600.jpg [accessed 2021-04-04].\n",
    "\n",
    "* William Turner (1810). The Shipwreck of the Minotaur. https://upload.wikimedia.org/wikipedia/commons/2/2e/Shipwreck_turner.jpg [accessed 2021-04-04].\n",
    "\n",
    "* Wassily Kadinsky (1913). Composition VII. https://upload.wikimedia.org/wikipedia/commons/b/b4/Vassily_Kandinsky%2C_1913_-_Composition_7.jpg [accessed 2021-04-04].\n",
    "\n",
    "* Pablo Picasso (1910). Femme Nue Assise. https://az334033.vo.msecnd.net/images-7/seated-nude-femme-nue-assise-pablo-picasso-1909-f9095482.jpg [accessed 2021-04-04]."
   ]
  },
  {
   "cell_type": "code",
   "execution_count": null,
   "metadata": {
    "id": "nGZ_3yX36w4q"
   },
   "outputs": [],
   "source": []
  }
 ],
 "metadata": {
  "accelerator": "GPU",
  "colab": {
   "collapsed_sections": [],
   "name": "StyleTransfer_IANNwTF.ipynb",
   "provenance": [],
   "toc_visible": true
  },
  "kernelspec": {
   "display_name": "Python 3",
   "language": "python",
   "name": "python3"
  },
  "language_info": {
   "codemirror_mode": {
    "name": "ipython",
    "version": 3
   },
   "file_extension": ".py",
   "mimetype": "text/x-python",
   "name": "python",
   "nbconvert_exporter": "python",
   "pygments_lexer": "ipython3",
   "version": "3.7.10"
  }
 },
 "nbformat": 4,
 "nbformat_minor": 1
}
